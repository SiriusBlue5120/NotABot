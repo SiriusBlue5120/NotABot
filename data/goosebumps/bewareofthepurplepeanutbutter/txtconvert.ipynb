{
 "metadata": {
  "language_info": {
   "codemirror_mode": {
    "name": "ipython",
    "version": 3
   },
   "file_extension": ".py",
   "mimetype": "text/x-python",
   "name": "python",
   "nbconvert_exporter": "python",
   "pygments_lexer": "ipython3",
   "version": "3.6.8-final"
  },
  "orig_nbformat": 2,
  "kernelspec": {
   "name": "python_defaultSpec_1600587445316",
   "display_name": "Python 3.6.8 64-bit ('bot': venv)"
  }
 },
 "nbformat": 4,
 "nbformat_minor": 2,
 "cells": [
  {
   "cell_type": "code",
   "execution_count": 90,
   "metadata": {},
   "outputs": [
    {
     "output_type": "execute_result",
     "data": {
      "text/plain": "['“Don’t go in the basement!” your aunt warns as you start a game of hide-and-seek with your two horrible cousins.\\n',\n 'Do you listen? No way!\\n',\n 'But while you’re hiding in the basement, your stomach grumbles and growls. You open an old refrigerator and find a jar of purple peanut butter and a stale chocolate cake. Which should you eat? Watch out: A SMALL taste of one of these foods could cause BIG trouble — you may never be the same again!\\n',\n '@1\\n',\n 'You can’t believe your parents did this to you!\\n']"
     },
     "metadata": {},
     "execution_count": 90
    }
   ],
   "source": [
    "txt = open('bewareofthepurplepeanutbutter.txt', 'r', encoding = 'utf-8')\n",
    "text = txt.readlines()\n",
    "text[0:5]"
   ]
  },
  {
   "cell_type": "code",
   "execution_count": 91,
   "metadata": {
    "tags": []
   },
   "outputs": [
    {
     "output_type": "stream",
     "name": "stdout",
     "text": "812 *Quick! Turn to PAGE 15.*\n\n844 *Turn to PAGE 102.*\n\n874 *If you decide to take the leap, turn to PAGE 57.*\n\n876 *If you think you should climb down, turn to PAGE 115.*\n\n904 *Turn to PAGE 3 — if you can stand it!*\n\n922 *Quick! Hurry to PAGE 87.*\n\n948 *Duck through the door that’s closest on PAGE 8.*\n\n950 *Or try for Dr. Abbott’s lab on PAGE 109.*\n\n1000 *Head for Effy’s Bakery on PAGE 32.*\n\n1002 *Or search for Maddy’s Bakery on PAGE 74.*\n\n1036 *Find out on PAGE 75.*\n\n1060 ***The End***\n\n1090 *Turn to PAGE 117.*\n\n1116 ***The End***\n\n1168 *Return to PAGE 108 to choose again.*\n\n1194 *Find out on PAGE 133.*\n\n1214 *Try the crumb on PAGE 97.*\n\n1216 *Or taste the icing on PAGE 107.*\n\n1242 *Go to PAGE 100.*\n\n1270 *Turn to PAGE 86.*\n\n1294 *You might as well leave it to chance. Flip a coin three times. If it comes up heads or tails three times in a row, steer your Popsicle stick to PAGE 77.*\n\n1296 *If the coin comes up two heads and one tail, or two tails and one head, move on to PAGE 37.*\n\n1316 ***The End***\n\n1336 *The big top? Turn to PAGE 38.*\n\n1338 *Or enter the sideshow tents on PAGE 130.*\n\n1368 ***The End***\n\n1396 ***The End***\n\n1424 *Turn to PAGE 92.*\n\n1450 *Turn to PAGE 122.*\n\n1476 *Rush to PAGE 128.*\n\n1498 *Find out on PAGE 48.*\n\n1524 *Try the new reducing machine on PAGE 33.*\n\n1526 *Or go to the steam room on PAGE 105.*\n\n1554 *Turn to PAGE 21.*\n\n1586 *Go to PAGE 66.*\n\n1614 *Escape on PAGE 106.*\n\n1640 *Go on to PAGE 121.*\n\n1662 *Do you head straight home? Then turn to PAGE 53.*\n\n1664 *Or if you want to see what other magnetic possibilities you have, go to PAGE 131.*\n\n1694 ***The End***\n\n1724 *Turn to PAGE 58.*\n\n1760 *Will you give up? Surrender on PAGE 42.*\n\n1762 *Or try to get away on PAGE 123.*\n\n1796 *Go to PAGE 85.*\n\n1828 *Turn to PAGE 14.*\n\n1856 *Turn to PAGE 127.*\n\n1888 *Go on to PAGE 95.*\n\n1910 *Turn to PAGE 69.*\n\n1940 ***The End***\n\n1968 *Did it work? Turn to PAGE 63.*\n\n2036 *Turn to PAGE 50.*\n\n2070 *Run to PAGE 41.*\n\n2096 *Turn to PAGE 129.*\n\n2122 *Dash into the kitchen and hide in a cupboard on PAGE 13.*\n\n2124 *Or find a hiding spot outdoors. Run to PAGE 93.*\n\n2160 ***The End***\n\n2190 *Turn to PAGE 64.*\n\n2214 *If you are able to do five push-ups, turn to PAGE 16.*\n\n2216 *If you can do less than five push-ups, turn to PAGE 40.*\n\n2240 *If it’s a Popsicle stick, go to PAGE 52.*\n\n2242 *If it’s a blue plastic can with the words MONSTER BLOOD on it, turn to PAGE 11.*\n\n2268 *Do you want to try magnetism? Go to PAGE 76.*\n\n2270 *Or is the laser gun the answer? Turn to PAGE 101.*\n\n2296 *Go to PAGE 10.*\n\n2326 *Turn to PAGE 116.*\n\n2348 *You can stand up to Barney the Bully by rushing over to PAGE 26!*\n\n2376 *Grab him and try to explain? Turn to PAGE 6.*\n\n2378 *Or throw something in his path on PAGE 83.*\n\n2410 *Turn to PAGE 65.*\n\n2434 *If you were born in the first half of the year — January through June — turn to PAGE 30.*\n\n2436 *If you were born in the months of July through December, turn to PAGE 68.*\n\n2466 *Quick! Turn to PAGE 18.*\n\n2494 *If you refuse to budge, turn to PAGE 22.*\n\n2496 *If you give in and play with Dora, turn to PAGE 35.*\n\n2518 *Rush down to the basement on PAGE 34.*\n\n2544 ***The End***\n\n2574 ***The End***\n\n2600 *If you have an EVEN number of letters, turn to PAGE 25.*\n\n2602 *If the number of letters is ODD, turn to PAGE 88.*\n\n2630 *Quick! Turn to PAGE 114.*\n\n2660 *If you think you can find the refrigerator at the dump, hurry to PAGE 24.*\n\n2662 *If you think you should see a doctor, turn to PAGE 120.*\n\n2694 *Quick! Turn to PAGE 36!*\n\n2718 *What is going on? Rush to PAGE 78.*\n\n2746 *Turn to PAGE 58.*\n\n2772 *Quick! Jump off the water bug and turn to PAGE 59.*\n\n2836 *Turn to PAGE 54.*\n\n2862 *Turn to PAGE 55.*\n\n2892 *To creep down to the basement, turn to PAGE 71.*\n\n2894 *Or find another hiding place on PAGE 47.*\n\n2922 *Turn to PAGE 9.*\n\n2954 *Run for the door on PAGE 19.*\n\n2956 *Or head for the dollhouse, PAGE 44.*\n\n2984 *What is it? Turn to PAGE 27.*\n\n3004 *If you wait for the police and confess, turn to PAGE 73.*\n\n3006 *If you run and hide, race to PAGE 4.*\n\n3032 *Get to work on PAGE 56.*\n\n3090 ***The End***\n\n3120 *Turn to PAGE 45.*\n\n3152 *Turn to PAGE 82.*\n\n3178 *Tell her on PAGE 7.*\n\n3204 *What’s happening? Find out on PAGE 46.*\n\n3242 *Now what? Turn to PAGE 12.*\n\n3278 *Run to PAGE 41.*\n\n3306 *Get noticed on PAGE 70.*\n\n3336 *Find out on PAGE 20.*\n\n3364 ***The End***\n\n3396 ***The End***\n\n3418 ***The End***\n\n3446 *Fight the mouse? Turn to PAGE 98.*\n\n3448 *Or make friends with it? Try PAGE 116.*\n\n3470 *Head for the pile of twisted metal on PAGE 99.*\n\n3472 *Or run for the jungle — PAGE 60.*\n\n3502 *If you stand up to Barney and join the game, turn to PAGE 26.*\n\n3504 *If you try to avoid him, turn to PAGE 89.*\n\n3530 *Find out on PAGE 84.*\n\n3552 ***The End***\n\n3590 ***The End***\n\n3618 *Go to PAGE 49.*\n\n3646 *If you go to Arnold’s, turn to PAGE 61.*\n\n3648 *If you think you should continue home, go to PAGE 95.*\n\n3672 *Go on to PAGE 112.*\n\n"
    }
   ],
   "source": [
    "count = 0\n",
    "conv = text\n",
    "for line in text:\n",
    "    if any(word in line for word in ['PAGE']):\n",
    "        line = ''.join(['*', line.replace('\\n', '*'), '\\n'])\n",
    "        print (count, line)\n",
    "        conv[count] = line\n",
    "    if any(word in line for word in ['THE END']):\n",
    "        conv[count-1] = '__\\n'\n",
    "        conv[count+1] = '^\\n'\n",
    "        conv[count+2] = '-1\\n'\n",
    "        conv[count+3] = '@\\n'\n",
    "        line = 'The End\\n'\n",
    "        line = ''.join(['***', line.replace('\\n', '***'), '\\n'])\n",
    "        print (count, line)\n",
    "        conv[count] = line\n",
    "    count += 1\n"
   ]
  },
  {
   "cell_type": "code",
   "execution_count": 92,
   "metadata": {},
   "outputs": [],
   "source": [
    "converted = open('bewareofthepurplepeanutbutterconv', 'w', encoding = 'utf-8')\n",
    "converted.writelines(conv)"
   ]
  },
  {
   "cell_type": "code",
   "execution_count": null,
   "metadata": {},
   "outputs": [],
   "source": []
  }
 ]
}